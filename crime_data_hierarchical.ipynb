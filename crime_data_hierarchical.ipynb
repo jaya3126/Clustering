{
  "nbformat": 4,
  "nbformat_minor": 0,
  "metadata": {
    "colab": {
      "name": "crime_data_hierarchical.ipynb",
      "provenance": [],
      "collapsed_sections": []
    },
    "kernelspec": {
      "name": "python3",
      "display_name": "Python 3"
    }
  },
  "cells": [
    {
      "cell_type": "code",
      "metadata": {
        "id": "DHKVXXDBZn1M"
      },
      "source": [
        "import scipy.cluster.hierarchy as sch\n",
        "from sklearn.cluster import AgglomerativeClustering\n",
        "import numpy as np\n",
        "import pandas as pd\n",
        "from matplotlib import pyplot as plt\n",
        "import seaborn as sn"
      ],
      "execution_count": 1,
      "outputs": []
    },
    {
      "cell_type": "code",
      "metadata": {
        "colab": {
          "base_uri": "https://localhost:8080/",
          "height": 197
        },
        "id": "LTpJXTNMagAK",
        "outputId": "59577a45-93ba-403e-b363-c06299932f1e"
      },
      "source": [
        "crime=pd.read_csv(\"crime_data.csv\")\n",
        "crime.head()"
      ],
      "execution_count": 2,
      "outputs": [
        {
          "output_type": "execute_result",
          "data": {
            "text/html": [
              "<div>\n",
              "<style scoped>\n",
              "    .dataframe tbody tr th:only-of-type {\n",
              "        vertical-align: middle;\n",
              "    }\n",
              "\n",
              "    .dataframe tbody tr th {\n",
              "        vertical-align: top;\n",
              "    }\n",
              "\n",
              "    .dataframe thead th {\n",
              "        text-align: right;\n",
              "    }\n",
              "</style>\n",
              "<table border=\"1\" class=\"dataframe\">\n",
              "  <thead>\n",
              "    <tr style=\"text-align: right;\">\n",
              "      <th></th>\n",
              "      <th>Unnamed: 0</th>\n",
              "      <th>Murder</th>\n",
              "      <th>Assault</th>\n",
              "      <th>UrbanPop</th>\n",
              "      <th>Rape</th>\n",
              "    </tr>\n",
              "  </thead>\n",
              "  <tbody>\n",
              "    <tr>\n",
              "      <th>0</th>\n",
              "      <td>Alabama</td>\n",
              "      <td>13.2</td>\n",
              "      <td>236</td>\n",
              "      <td>58</td>\n",
              "      <td>21.2</td>\n",
              "    </tr>\n",
              "    <tr>\n",
              "      <th>1</th>\n",
              "      <td>Alaska</td>\n",
              "      <td>10.0</td>\n",
              "      <td>263</td>\n",
              "      <td>48</td>\n",
              "      <td>44.5</td>\n",
              "    </tr>\n",
              "    <tr>\n",
              "      <th>2</th>\n",
              "      <td>Arizona</td>\n",
              "      <td>8.1</td>\n",
              "      <td>294</td>\n",
              "      <td>80</td>\n",
              "      <td>31.0</td>\n",
              "    </tr>\n",
              "    <tr>\n",
              "      <th>3</th>\n",
              "      <td>Arkansas</td>\n",
              "      <td>8.8</td>\n",
              "      <td>190</td>\n",
              "      <td>50</td>\n",
              "      <td>19.5</td>\n",
              "    </tr>\n",
              "    <tr>\n",
              "      <th>4</th>\n",
              "      <td>California</td>\n",
              "      <td>9.0</td>\n",
              "      <td>276</td>\n",
              "      <td>91</td>\n",
              "      <td>40.6</td>\n",
              "    </tr>\n",
              "  </tbody>\n",
              "</table>\n",
              "</div>"
            ],
            "text/plain": [
              "   Unnamed: 0  Murder  Assault  UrbanPop  Rape\n",
              "0     Alabama    13.2      236        58  21.2\n",
              "1      Alaska    10.0      263        48  44.5\n",
              "2     Arizona     8.1      294        80  31.0\n",
              "3    Arkansas     8.8      190        50  19.5\n",
              "4  California     9.0      276        91  40.6"
            ]
          },
          "metadata": {
            "tags": []
          },
          "execution_count": 2
        }
      ]
    },
    {
      "cell_type": "code",
      "metadata": {
        "colab": {
          "base_uri": "https://localhost:8080/"
        },
        "id": "HMeruGSCp-Qi",
        "outputId": "b26ac672-bbb9-4496-e1cd-8cdbed8eef7d"
      },
      "source": [
        "crime.info()"
      ],
      "execution_count": 39,
      "outputs": [
        {
          "output_type": "stream",
          "text": [
            "<class 'pandas.core.frame.DataFrame'>\n",
            "RangeIndex: 50 entries, 0 to 49\n",
            "Data columns (total 6 columns):\n",
            " #   Column    Non-Null Count  Dtype  \n",
            "---  ------    --------------  -----  \n",
            " 0   State     50 non-null     object \n",
            " 1   Murder    50 non-null     float64\n",
            " 2   Assault   50 non-null     int64  \n",
            " 3   UrbanPop  50 non-null     int64  \n",
            " 4   Rape      50 non-null     float64\n",
            " 5   clust     50 non-null     int64  \n",
            "dtypes: float64(2), int64(3), object(1)\n",
            "memory usage: 2.5+ KB\n"
          ],
          "name": "stdout"
        }
      ]
    },
    {
      "cell_type": "code",
      "metadata": {
        "colab": {
          "base_uri": "https://localhost:8080/",
          "height": 287
        },
        "id": "4v8gYIdUqBdv",
        "outputId": "c2644fdd-17d0-43a7-e0af-3d3ae5c6c855"
      },
      "source": [
        "crime.describe()"
      ],
      "execution_count": 40,
      "outputs": [
        {
          "output_type": "execute_result",
          "data": {
            "text/html": [
              "<div>\n",
              "<style scoped>\n",
              "    .dataframe tbody tr th:only-of-type {\n",
              "        vertical-align: middle;\n",
              "    }\n",
              "\n",
              "    .dataframe tbody tr th {\n",
              "        vertical-align: top;\n",
              "    }\n",
              "\n",
              "    .dataframe thead th {\n",
              "        text-align: right;\n",
              "    }\n",
              "</style>\n",
              "<table border=\"1\" class=\"dataframe\">\n",
              "  <thead>\n",
              "    <tr style=\"text-align: right;\">\n",
              "      <th></th>\n",
              "      <th>Murder</th>\n",
              "      <th>Assault</th>\n",
              "      <th>UrbanPop</th>\n",
              "      <th>Rape</th>\n",
              "      <th>clust</th>\n",
              "    </tr>\n",
              "  </thead>\n",
              "  <tbody>\n",
              "    <tr>\n",
              "      <th>count</th>\n",
              "      <td>50.00000</td>\n",
              "      <td>50.000000</td>\n",
              "      <td>50.000000</td>\n",
              "      <td>50.000000</td>\n",
              "      <td>50.000000</td>\n",
              "    </tr>\n",
              "    <tr>\n",
              "      <th>mean</th>\n",
              "      <td>7.78800</td>\n",
              "      <td>170.760000</td>\n",
              "      <td>65.540000</td>\n",
              "      <td>21.232000</td>\n",
              "      <td>1.160000</td>\n",
              "    </tr>\n",
              "    <tr>\n",
              "      <th>std</th>\n",
              "      <td>4.35551</td>\n",
              "      <td>83.337661</td>\n",
              "      <td>14.474763</td>\n",
              "      <td>9.366385</td>\n",
              "      <td>1.075895</td>\n",
              "    </tr>\n",
              "    <tr>\n",
              "      <th>min</th>\n",
              "      <td>0.80000</td>\n",
              "      <td>45.000000</td>\n",
              "      <td>32.000000</td>\n",
              "      <td>7.300000</td>\n",
              "      <td>0.000000</td>\n",
              "    </tr>\n",
              "    <tr>\n",
              "      <th>25%</th>\n",
              "      <td>4.07500</td>\n",
              "      <td>109.000000</td>\n",
              "      <td>54.500000</td>\n",
              "      <td>15.075000</td>\n",
              "      <td>0.000000</td>\n",
              "    </tr>\n",
              "    <tr>\n",
              "      <th>50%</th>\n",
              "      <td>7.25000</td>\n",
              "      <td>159.000000</td>\n",
              "      <td>66.000000</td>\n",
              "      <td>20.100000</td>\n",
              "      <td>1.000000</td>\n",
              "    </tr>\n",
              "    <tr>\n",
              "      <th>75%</th>\n",
              "      <td>11.25000</td>\n",
              "      <td>249.000000</td>\n",
              "      <td>77.750000</td>\n",
              "      <td>26.175000</td>\n",
              "      <td>2.000000</td>\n",
              "    </tr>\n",
              "    <tr>\n",
              "      <th>max</th>\n",
              "      <td>17.40000</td>\n",
              "      <td>337.000000</td>\n",
              "      <td>91.000000</td>\n",
              "      <td>46.000000</td>\n",
              "      <td>3.000000</td>\n",
              "    </tr>\n",
              "  </tbody>\n",
              "</table>\n",
              "</div>"
            ],
            "text/plain": [
              "         Murder     Assault   UrbanPop       Rape      clust\n",
              "count  50.00000   50.000000  50.000000  50.000000  50.000000\n",
              "mean    7.78800  170.760000  65.540000  21.232000   1.160000\n",
              "std     4.35551   83.337661  14.474763   9.366385   1.075895\n",
              "min     0.80000   45.000000  32.000000   7.300000   0.000000\n",
              "25%     4.07500  109.000000  54.500000  15.075000   0.000000\n",
              "50%     7.25000  159.000000  66.000000  20.100000   1.000000\n",
              "75%    11.25000  249.000000  77.750000  26.175000   2.000000\n",
              "max    17.40000  337.000000  91.000000  46.000000   3.000000"
            ]
          },
          "metadata": {
            "tags": []
          },
          "execution_count": 40
        }
      ]
    },
    {
      "cell_type": "code",
      "metadata": {
        "id": "XZ9-DgnSiQb1"
      },
      "source": [
        "crime = crime.rename(columns={'Unnamed: 0':'State'})"
      ],
      "execution_count": 18,
      "outputs": []
    },
    {
      "cell_type": "code",
      "metadata": {
        "id": "2YdqZhmEa3Sq"
      },
      "source": [
        "crime1=crime.drop(['State'], axis=1)"
      ],
      "execution_count": 19,
      "outputs": []
    },
    {
      "cell_type": "code",
      "metadata": {
        "id": "ADJ69swpcp-T"
      },
      "source": [
        "from matplotlib import pyplot"
      ],
      "execution_count": 4,
      "outputs": []
    },
    {
      "cell_type": "code",
      "metadata": {
        "colab": {
          "base_uri": "https://localhost:8080/",
          "height": 498
        },
        "id": "WDw-Yd5OchP9",
        "outputId": "b6271df5-456a-48c5-afdd-2b23deb6405d"
      },
      "source": [
        "# histograms\n",
        "crime1.hist(figsize=(12, 8))\n",
        "pyplot.show()"
      ],
      "execution_count": 5,
      "outputs": [
        {
          "output_type": "display_data",
          "data": {
            "image/png": "[encoded data removed]",
            "text/plain": [
              "<Figure size 864x576 with 4 Axes>"
            ]
          },
          "metadata": {
            "tags": [],
            "needs_background": "light"
          }
        }
      ]
    },
    {
      "cell_type": "code",
      "metadata": {
        "colab": {
          "base_uri": "https://localhost:8080/",
          "height": 610
        },
        "id": "8kT1CuMkcvf6",
        "outputId": "0f1c7d49-228e-4d29-d7b2-8596804da6ef"
      },
      "source": [
        "crime1.boxplot(figsize=(10, 10))"
      ],
      "execution_count": 6,
      "outputs": [
        {
          "output_type": "execute_result",
          "data": {
            "text/plain": [
              "<matplotlib.axes._subplots.AxesSubplot at 0x7f21f75d7310>"
            ]
          },
          "metadata": {
            "tags": []
          },
          "execution_count": 6
        },
        {
          "output_type": "display_data",
          "data": {
            "image/png": "[encoded data removed]",
            "text/plain": [
              "<Figure size 720x720 with 1 Axes>"
            ]
          },
          "metadata": {
            "tags": [],
            "needs_background": "light"
          }
        }
      ]
    },
    {
      "cell_type": "code",
      "metadata": {
        "id": "JnYYiYqndIPB"
      },
      "source": [
        ""
      ],
      "execution_count": 6,
      "outputs": []
    },
    {
      "cell_type": "code",
      "metadata": {
        "colab": {
          "base_uri": "https://localhost:8080/",
          "height": 1000
        },
        "id": "L8FmsF7JbFKe",
        "outputId": "78b86365-4ccb-4f4b-c4d2-7d1dc67e2c16"
      },
      "source": [
        "# Normalization function \n",
        "from sklearn.preprocessing import MinMaxScaler\n",
        "trans=MinMaxScaler()\n",
        "data = pd.DataFrame(trans.fit_transform(crime1.iloc[:,:]))\n",
        "data "
      ],
      "execution_count": 7,
      "outputs": [
        {
          "output_type": "execute_result",
          "data": {
            "text/html": [
              "<div>\n",
              "<style scoped>\n",
              "    .dataframe tbody tr th:only-of-type {\n",
              "        vertical-align: middle;\n",
              "    }\n",
              "\n",
              "    .dataframe tbody tr th {\n",
              "        vertical-align: top;\n",
              "    }\n",
              "\n",
              "    .dataframe thead th {\n",
              "        text-align: right;\n",
              "    }\n",
              "</style>\n",
              "<table border=\"1\" class=\"dataframe\">\n",
              "  <thead>\n",
              "    <tr style=\"text-align: right;\">\n",
              "      <th></th>\n",
              "      <th>0</th>\n",
              "      <th>1</th>\n",
              "      <th>2</th>\n",
              "      <th>3</th>\n",
              "    </tr>\n",
              "  </thead>\n",
              "  <tbody>\n",
              "    <tr>\n",
              "      <th>0</th>\n",
              "      <td>0.746988</td>\n",
              "      <td>0.654110</td>\n",
              "      <td>0.440678</td>\n",
              "      <td>0.359173</td>\n",
              "    </tr>\n",
              "    <tr>\n",
              "      <th>1</th>\n",
              "      <td>0.554217</td>\n",
              "      <td>0.746575</td>\n",
              "      <td>0.271186</td>\n",
              "      <td>0.961240</td>\n",
              "    </tr>\n",
              "    <tr>\n",
              "      <th>2</th>\n",
              "      <td>0.439759</td>\n",
              "      <td>0.852740</td>\n",
              "      <td>0.813559</td>\n",
              "      <td>0.612403</td>\n",
              "    </tr>\n",
              "    <tr>\n",
              "      <th>3</th>\n",
              "      <td>0.481928</td>\n",
              "      <td>0.496575</td>\n",
              "      <td>0.305085</td>\n",
              "      <td>0.315245</td>\n",
              "    </tr>\n",
              "    <tr>\n",
              "      <th>4</th>\n",
              "      <td>0.493976</td>\n",
              "      <td>0.791096</td>\n",
              "      <td>1.000000</td>\n",
              "      <td>0.860465</td>\n",
              "    </tr>\n",
              "    <tr>\n",
              "      <th>5</th>\n",
              "      <td>0.427711</td>\n",
              "      <td>0.544521</td>\n",
              "      <td>0.779661</td>\n",
              "      <td>0.811370</td>\n",
              "    </tr>\n",
              "    <tr>\n",
              "      <th>6</th>\n",
              "      <td>0.150602</td>\n",
              "      <td>0.222603</td>\n",
              "      <td>0.762712</td>\n",
              "      <td>0.098191</td>\n",
              "    </tr>\n",
              "    <tr>\n",
              "      <th>7</th>\n",
              "      <td>0.307229</td>\n",
              "      <td>0.660959</td>\n",
              "      <td>0.677966</td>\n",
              "      <td>0.219638</td>\n",
              "    </tr>\n",
              "    <tr>\n",
              "      <th>8</th>\n",
              "      <td>0.879518</td>\n",
              "      <td>0.993151</td>\n",
              "      <td>0.813559</td>\n",
              "      <td>0.635659</td>\n",
              "    </tr>\n",
              "    <tr>\n",
              "      <th>9</th>\n",
              "      <td>1.000000</td>\n",
              "      <td>0.568493</td>\n",
              "      <td>0.474576</td>\n",
              "      <td>0.478036</td>\n",
              "    </tr>\n",
              "    <tr>\n",
              "      <th>10</th>\n",
              "      <td>0.271084</td>\n",
              "      <td>0.003425</td>\n",
              "      <td>0.864407</td>\n",
              "      <td>0.333333</td>\n",
              "    </tr>\n",
              "    <tr>\n",
              "      <th>11</th>\n",
              "      <td>0.108434</td>\n",
              "      <td>0.256849</td>\n",
              "      <td>0.372881</td>\n",
              "      <td>0.178295</td>\n",
              "    </tr>\n",
              "    <tr>\n",
              "      <th>12</th>\n",
              "      <td>0.578313</td>\n",
              "      <td>0.698630</td>\n",
              "      <td>0.864407</td>\n",
              "      <td>0.431525</td>\n",
              "    </tr>\n",
              "    <tr>\n",
              "      <th>13</th>\n",
              "      <td>0.385542</td>\n",
              "      <td>0.232877</td>\n",
              "      <td>0.559322</td>\n",
              "      <td>0.354005</td>\n",
              "    </tr>\n",
              "    <tr>\n",
              "      <th>14</th>\n",
              "      <td>0.084337</td>\n",
              "      <td>0.037671</td>\n",
              "      <td>0.423729</td>\n",
              "      <td>0.103359</td>\n",
              "    </tr>\n",
              "    <tr>\n",
              "      <th>15</th>\n",
              "      <td>0.313253</td>\n",
              "      <td>0.239726</td>\n",
              "      <td>0.576271</td>\n",
              "      <td>0.276486</td>\n",
              "    </tr>\n",
              "    <tr>\n",
              "      <th>16</th>\n",
              "      <td>0.536145</td>\n",
              "      <td>0.219178</td>\n",
              "      <td>0.338983</td>\n",
              "      <td>0.232558</td>\n",
              "    </tr>\n",
              "    <tr>\n",
              "      <th>17</th>\n",
              "      <td>0.879518</td>\n",
              "      <td>0.698630</td>\n",
              "      <td>0.576271</td>\n",
              "      <td>0.385013</td>\n",
              "    </tr>\n",
              "    <tr>\n",
              "      <th>18</th>\n",
              "      <td>0.078313</td>\n",
              "      <td>0.130137</td>\n",
              "      <td>0.322034</td>\n",
              "      <td>0.012920</td>\n",
              "    </tr>\n",
              "    <tr>\n",
              "      <th>19</th>\n",
              "      <td>0.632530</td>\n",
              "      <td>0.873288</td>\n",
              "      <td>0.593220</td>\n",
              "      <td>0.529716</td>\n",
              "    </tr>\n",
              "    <tr>\n",
              "      <th>20</th>\n",
              "      <td>0.216867</td>\n",
              "      <td>0.356164</td>\n",
              "      <td>0.898305</td>\n",
              "      <td>0.232558</td>\n",
              "    </tr>\n",
              "    <tr>\n",
              "      <th>21</th>\n",
              "      <td>0.680723</td>\n",
              "      <td>0.719178</td>\n",
              "      <td>0.711864</td>\n",
              "      <td>0.718346</td>\n",
              "    </tr>\n",
              "    <tr>\n",
              "      <th>22</th>\n",
              "      <td>0.114458</td>\n",
              "      <td>0.092466</td>\n",
              "      <td>0.576271</td>\n",
              "      <td>0.196382</td>\n",
              "    </tr>\n",
              "    <tr>\n",
              "      <th>23</th>\n",
              "      <td>0.921687</td>\n",
              "      <td>0.732877</td>\n",
              "      <td>0.203390</td>\n",
              "      <td>0.253230</td>\n",
              "    </tr>\n",
              "    <tr>\n",
              "      <th>24</th>\n",
              "      <td>0.493976</td>\n",
              "      <td>0.455479</td>\n",
              "      <td>0.644068</td>\n",
              "      <td>0.540052</td>\n",
              "    </tr>\n",
              "    <tr>\n",
              "      <th>25</th>\n",
              "      <td>0.313253</td>\n",
              "      <td>0.219178</td>\n",
              "      <td>0.355932</td>\n",
              "      <td>0.235142</td>\n",
              "    </tr>\n",
              "    <tr>\n",
              "      <th>26</th>\n",
              "      <td>0.210843</td>\n",
              "      <td>0.195205</td>\n",
              "      <td>0.508475</td>\n",
              "      <td>0.237726</td>\n",
              "    </tr>\n",
              "    <tr>\n",
              "      <th>27</th>\n",
              "      <td>0.686747</td>\n",
              "      <td>0.708904</td>\n",
              "      <td>0.830508</td>\n",
              "      <td>1.000000</td>\n",
              "    </tr>\n",
              "    <tr>\n",
              "      <th>28</th>\n",
              "      <td>0.078313</td>\n",
              "      <td>0.041096</td>\n",
              "      <td>0.406780</td>\n",
              "      <td>0.056848</td>\n",
              "    </tr>\n",
              "    <tr>\n",
              "      <th>29</th>\n",
              "      <td>0.397590</td>\n",
              "      <td>0.390411</td>\n",
              "      <td>0.966102</td>\n",
              "      <td>0.297158</td>\n",
              "    </tr>\n",
              "    <tr>\n",
              "      <th>30</th>\n",
              "      <td>0.638554</td>\n",
              "      <td>0.821918</td>\n",
              "      <td>0.644068</td>\n",
              "      <td>0.640827</td>\n",
              "    </tr>\n",
              "    <tr>\n",
              "      <th>31</th>\n",
              "      <td>0.620482</td>\n",
              "      <td>0.715753</td>\n",
              "      <td>0.915254</td>\n",
              "      <td>0.485788</td>\n",
              "    </tr>\n",
              "    <tr>\n",
              "      <th>32</th>\n",
              "      <td>0.734940</td>\n",
              "      <td>1.000000</td>\n",
              "      <td>0.220339</td>\n",
              "      <td>0.227390</td>\n",
              "    </tr>\n",
              "    <tr>\n",
              "      <th>33</th>\n",
              "      <td>0.000000</td>\n",
              "      <td>0.000000</td>\n",
              "      <td>0.203390</td>\n",
              "      <td>0.000000</td>\n",
              "    </tr>\n",
              "    <tr>\n",
              "      <th>34</th>\n",
              "      <td>0.391566</td>\n",
              "      <td>0.256849</td>\n",
              "      <td>0.728814</td>\n",
              "      <td>0.364341</td>\n",
              "    </tr>\n",
              "    <tr>\n",
              "      <th>35</th>\n",
              "      <td>0.349398</td>\n",
              "      <td>0.363014</td>\n",
              "      <td>0.610169</td>\n",
              "      <td>0.328165</td>\n",
              "    </tr>\n",
              "    <tr>\n",
              "      <th>36</th>\n",
              "      <td>0.246988</td>\n",
              "      <td>0.390411</td>\n",
              "      <td>0.593220</td>\n",
              "      <td>0.568475</td>\n",
              "    </tr>\n",
              "    <tr>\n",
              "      <th>37</th>\n",
              "      <td>0.331325</td>\n",
              "      <td>0.208904</td>\n",
              "      <td>0.677966</td>\n",
              "      <td>0.196382</td>\n",
              "    </tr>\n",
              "    <tr>\n",
              "      <th>38</th>\n",
              "      <td>0.156627</td>\n",
              "      <td>0.441781</td>\n",
              "      <td>0.932203</td>\n",
              "      <td>0.025840</td>\n",
              "    </tr>\n",
              "    <tr>\n",
              "      <th>39</th>\n",
              "      <td>0.819277</td>\n",
              "      <td>0.801370</td>\n",
              "      <td>0.271186</td>\n",
              "      <td>0.392765</td>\n",
              "    </tr>\n",
              "    <tr>\n",
              "      <th>40</th>\n",
              "      <td>0.180723</td>\n",
              "      <td>0.140411</td>\n",
              "      <td>0.220339</td>\n",
              "      <td>0.142119</td>\n",
              "    </tr>\n",
              "    <tr>\n",
              "      <th>41</th>\n",
              "      <td>0.746988</td>\n",
              "      <td>0.489726</td>\n",
              "      <td>0.457627</td>\n",
              "      <td>0.506460</td>\n",
              "    </tr>\n",
              "    <tr>\n",
              "      <th>42</th>\n",
              "      <td>0.716867</td>\n",
              "      <td>0.534247</td>\n",
              "      <td>0.813559</td>\n",
              "      <td>0.470284</td>\n",
              "    </tr>\n",
              "    <tr>\n",
              "      <th>43</th>\n",
              "      <td>0.144578</td>\n",
              "      <td>0.256849</td>\n",
              "      <td>0.813559</td>\n",
              "      <td>0.403101</td>\n",
              "    </tr>\n",
              "    <tr>\n",
              "      <th>44</th>\n",
              "      <td>0.084337</td>\n",
              "      <td>0.010274</td>\n",
              "      <td>0.000000</td>\n",
              "      <td>0.100775</td>\n",
              "    </tr>\n",
              "    <tr>\n",
              "      <th>45</th>\n",
              "      <td>0.463855</td>\n",
              "      <td>0.380137</td>\n",
              "      <td>0.525424</td>\n",
              "      <td>0.346253</td>\n",
              "    </tr>\n",
              "    <tr>\n",
              "      <th>46</th>\n",
              "      <td>0.192771</td>\n",
              "      <td>0.342466</td>\n",
              "      <td>0.694915</td>\n",
              "      <td>0.488372</td>\n",
              "    </tr>\n",
              "    <tr>\n",
              "      <th>47</th>\n",
              "      <td>0.295181</td>\n",
              "      <td>0.123288</td>\n",
              "      <td>0.118644</td>\n",
              "      <td>0.051680</td>\n",
              "    </tr>\n",
              "    <tr>\n",
              "      <th>48</th>\n",
              "      <td>0.108434</td>\n",
              "      <td>0.027397</td>\n",
              "      <td>0.576271</td>\n",
              "      <td>0.090439</td>\n",
              "    </tr>\n",
              "    <tr>\n",
              "      <th>49</th>\n",
              "      <td>0.361446</td>\n",
              "      <td>0.397260</td>\n",
              "      <td>0.474576</td>\n",
              "      <td>0.214470</td>\n",
              "    </tr>\n",
              "  </tbody>\n",
              "</table>\n",
              "</div>"
            ],
            "text/plain": [
              "           0         1         2         3\n",
              "0   0.746988  0.654110  0.440678  0.359173\n",
              "1   0.554217  0.746575  0.271186  0.961240\n",
              "2   0.439759  0.852740  0.813559  0.612403\n",
              "3   0.481928  0.496575  0.305085  0.315245\n",
              "4   0.493976  0.791096  1.000000  0.860465\n",
              "5   0.427711  0.544521  0.779661  0.811370\n",
              "6   0.150602  0.222603  0.762712  0.098191\n",
              "7   0.307229  0.660959  0.677966  0.219638\n",
              "8   0.879518  0.993151  0.813559  0.635659\n",
              "9   1.000000  0.568493  0.474576  0.478036\n",
              "10  0.271084  0.003425  0.864407  0.333333\n",
              "11  0.108434  0.256849  0.372881  0.178295\n",
              "12  0.578313  0.698630  0.864407  0.431525\n",
              "13  0.385542  0.232877  0.559322  0.354005\n",
              "14  0.084337  0.037671  0.423729  0.103359\n",
              "15  0.313253  0.239726  0.576271  0.276486\n",
              "16  0.536145  0.219178  0.338983  0.232558\n",
              "17  0.879518  0.698630  0.576271  0.385013\n",
              "18  0.078313  0.130137  0.322034  0.012920\n",
              "19  0.632530  0.873288  0.593220  0.529716\n",
              "20  0.216867  0.356164  0.898305  0.232558\n",
              "21  0.680723  0.719178  0.711864  0.718346\n",
              "22  0.114458  0.092466  0.576271  0.196382\n",
              "23  0.921687  0.732877  0.203390  0.253230\n",
              "24  0.493976  0.455479  0.644068  0.540052\n",
              "25  0.313253  0.219178  0.355932  0.235142\n",
              "26  0.210843  0.195205  0.508475  0.237726\n",
              "27  0.686747  0.708904  0.830508  1.000000\n",
              "28  0.078313  0.041096  0.406780  0.056848\n",
              "29  0.397590  0.390411  0.966102  0.297158\n",
              "30  0.638554  0.821918  0.644068  0.640827\n",
              "31  0.620482  0.715753  0.915254  0.485788\n",
              "32  0.734940  1.000000  0.220339  0.227390\n",
              "33  0.000000  0.000000  0.203390  0.000000\n",
              "34  0.391566  0.256849  0.728814  0.364341\n",
              "35  0.349398  0.363014  0.610169  0.328165\n",
              "36  0.246988  0.390411  0.593220  0.568475\n",
              "37  0.331325  0.208904  0.677966  0.196382\n",
              "38  0.156627  0.441781  0.932203  0.025840\n",
              "39  0.819277  0.801370  0.271186  0.392765\n",
              "40  0.180723  0.140411  0.220339  0.142119\n",
              "41  0.746988  0.489726  0.457627  0.506460\n",
              "42  0.716867  0.534247  0.813559  0.470284\n",
              "43  0.144578  0.256849  0.813559  0.403101\n",
              "44  0.084337  0.010274  0.000000  0.100775\n",
              "45  0.463855  0.380137  0.525424  0.346253\n",
              "46  0.192771  0.342466  0.694915  0.488372\n",
              "47  0.295181  0.123288  0.118644  0.051680\n",
              "48  0.108434  0.027397  0.576271  0.090439\n",
              "49  0.361446  0.397260  0.474576  0.214470"
            ]
          },
          "metadata": {
            "tags": []
          },
          "execution_count": 7
        }
      ]
    },
    {
      "cell_type": "code",
      "metadata": {
        "colab": {
          "base_uri": "https://localhost:8080/",
          "height": 1000
        },
        "id": "DGWnyLXZeUac",
        "outputId": "156e30a1-914d-4e67-feff-c2dad61abc42"
      },
      "source": [
        "import scipy.cluster.hierarchy as shc\n",
        "for methods in ['single','complete','average','centroid','ward']: \n",
        "   plt.figure(figsize =(20, 6)) \n",
        "   dict = {'fontsize':24,'fontweight' :16, 'color' : 'blue'}\n",
        "   plt.title('Visualising the data, Method- {}'.format(methods),fontdict = dict) \n",
        "   Dendrogram1 = shc.dendrogram(shc.linkage(data, method = methods,optimal_ordering=False))\n"
      ],
      "execution_count": 8,
      "outputs": [
        {
          "output_type": "display_data",
          "data": {
            "image/png": "[encoded data removed]",
            "text/plain": [
              "<Figure size 1440x432 with 1 Axes>"
            ]
          },
          "metadata": {
            "tags": [],
            "needs_background": "light"
          }
        },
        {
          "output_type": "display_data",
          "data": {
            "image/png": "[encoded data removed]",
            "text/plain": [
              "<Figure size 1440x432 with 1 Axes>"
            ]
          },
          "metadata": {
            "tags": [],
            "needs_background": "light"
          }
        },
        {
          "output_type": "display_data",
          "data": {
            "image/png": "[encoded data removed]",
            "text/plain": [
              "<Figure size 1440x432 with 1 Axes>"
            ]
          },
          "metadata": {
            "tags": [],
            "needs_background": "light"
          }
        },
        {
          "output_type": "display_data",
          "data": {
            "image/png": "[encoded data removed]",
            "text/plain": [
              "<Figure size 1440x432 with 1 Axes>"
            ]
          },
          "metadata": {
            "tags": [],
            "needs_background": "light"
          }
        },
        {
          "output_type": "display_data",
          "data": {
            "image/png": "[encoded data removed]",
            "text/plain": [
              "<Figure size 1440x432 with 1 Axes>"
            ]
          },
          "metadata": {
            "tags": [],
            "needs_background": "light"
          }
        }
      ]
    },
    {
      "cell_type": "markdown",
      "metadata": {
        "id": "b716LAYCpmIk"
      },
      "source": [
        "we check all method anmd after looking each method result i feel ward method give more clear cluster so i selected ward method."
      ]
    },
    {
      "cell_type": "code",
      "metadata": {
        "colab": {
          "base_uri": "https://localhost:8080/",
          "height": 1000
        },
        "id": "CsE5-5XwfD_n",
        "outputId": "be8c5e91-e168-4009-eada-9ec92d737877"
      },
      "source": [
        "from sklearn.cluster import AgglomerativeClustering\n",
        "h_ward = AgglomerativeClustering(n_clusters=4, linkage='ward',affinity = \"euclidean\").fit(data) \n",
        "\n",
        "cluster_labels=pd.Series(h_ward.labels_)\n",
        "cluster_labels\n",
        "crime['clust']=cluster_labels # creating a  new column and assigning it to new column \n",
        "crime"
      ],
      "execution_count": 34,
      "outputs": [
        {
          "output_type": "execute_result",
          "data": {
            "text/html": [
              "<div>\n",
              "<style scoped>\n",
              "    .dataframe tbody tr th:only-of-type {\n",
              "        vertical-align: middle;\n",
              "    }\n",
              "\n",
              "    .dataframe tbody tr th {\n",
              "        vertical-align: top;\n",
              "    }\n",
              "\n",
              "    .dataframe thead th {\n",
              "        text-align: right;\n",
              "    }\n",
              "</style>\n",
              "<table border=\"1\" class=\"dataframe\">\n",
              "  <thead>\n",
              "    <tr style=\"text-align: right;\">\n",
              "      <th></th>\n",
              "      <th>State</th>\n",
              "      <th>Murder</th>\n",
              "      <th>Assault</th>\n",
              "      <th>UrbanPop</th>\n",
              "      <th>Rape</th>\n",
              "      <th>clust</th>\n",
              "    </tr>\n",
              "  </thead>\n",
              "  <tbody>\n",
              "    <tr>\n",
              "      <th>0</th>\n",
              "      <td>Alabama</td>\n",
              "      <td>13.2</td>\n",
              "      <td>236</td>\n",
              "      <td>58</td>\n",
              "      <td>21.2</td>\n",
              "      <td>3</td>\n",
              "    </tr>\n",
              "    <tr>\n",
              "      <th>1</th>\n",
              "      <td>Alaska</td>\n",
              "      <td>10.0</td>\n",
              "      <td>263</td>\n",
              "      <td>48</td>\n",
              "      <td>44.5</td>\n",
              "      <td>1</td>\n",
              "    </tr>\n",
              "    <tr>\n",
              "      <th>2</th>\n",
              "      <td>Arizona</td>\n",
              "      <td>8.1</td>\n",
              "      <td>294</td>\n",
              "      <td>80</td>\n",
              "      <td>31.0</td>\n",
              "      <td>1</td>\n",
              "    </tr>\n",
              "    <tr>\n",
              "      <th>3</th>\n",
              "      <td>Arkansas</td>\n",
              "      <td>8.8</td>\n",
              "      <td>190</td>\n",
              "      <td>50</td>\n",
              "      <td>19.5</td>\n",
              "      <td>0</td>\n",
              "    </tr>\n",
              "    <tr>\n",
              "      <th>4</th>\n",
              "      <td>California</td>\n",
              "      <td>9.0</td>\n",
              "      <td>276</td>\n",
              "      <td>91</td>\n",
              "      <td>40.6</td>\n",
              "      <td>1</td>\n",
              "    </tr>\n",
              "    <tr>\n",
              "      <th>5</th>\n",
              "      <td>Colorado</td>\n",
              "      <td>7.9</td>\n",
              "      <td>204</td>\n",
              "      <td>78</td>\n",
              "      <td>38.7</td>\n",
              "      <td>1</td>\n",
              "    </tr>\n",
              "    <tr>\n",
              "      <th>6</th>\n",
              "      <td>Connecticut</td>\n",
              "      <td>3.3</td>\n",
              "      <td>110</td>\n",
              "      <td>77</td>\n",
              "      <td>11.1</td>\n",
              "      <td>0</td>\n",
              "    </tr>\n",
              "    <tr>\n",
              "      <th>7</th>\n",
              "      <td>Delaware</td>\n",
              "      <td>5.9</td>\n",
              "      <td>238</td>\n",
              "      <td>72</td>\n",
              "      <td>15.8</td>\n",
              "      <td>0</td>\n",
              "    </tr>\n",
              "    <tr>\n",
              "      <th>8</th>\n",
              "      <td>Florida</td>\n",
              "      <td>15.4</td>\n",
              "      <td>335</td>\n",
              "      <td>80</td>\n",
              "      <td>31.9</td>\n",
              "      <td>1</td>\n",
              "    </tr>\n",
              "    <tr>\n",
              "      <th>9</th>\n",
              "      <td>Georgia</td>\n",
              "      <td>17.4</td>\n",
              "      <td>211</td>\n",
              "      <td>60</td>\n",
              "      <td>25.8</td>\n",
              "      <td>3</td>\n",
              "    </tr>\n",
              "    <tr>\n",
              "      <th>10</th>\n",
              "      <td>Hawaii</td>\n",
              "      <td>5.3</td>\n",
              "      <td>46</td>\n",
              "      <td>83</td>\n",
              "      <td>20.2</td>\n",
              "      <td>0</td>\n",
              "    </tr>\n",
              "    <tr>\n",
              "      <th>11</th>\n",
              "      <td>Idaho</td>\n",
              "      <td>2.6</td>\n",
              "      <td>120</td>\n",
              "      <td>54</td>\n",
              "      <td>14.2</td>\n",
              "      <td>2</td>\n",
              "    </tr>\n",
              "    <tr>\n",
              "      <th>12</th>\n",
              "      <td>Illinois</td>\n",
              "      <td>10.4</td>\n",
              "      <td>249</td>\n",
              "      <td>83</td>\n",
              "      <td>24.0</td>\n",
              "      <td>1</td>\n",
              "    </tr>\n",
              "    <tr>\n",
              "      <th>13</th>\n",
              "      <td>Indiana</td>\n",
              "      <td>7.2</td>\n",
              "      <td>113</td>\n",
              "      <td>65</td>\n",
              "      <td>21.0</td>\n",
              "      <td>0</td>\n",
              "    </tr>\n",
              "    <tr>\n",
              "      <th>14</th>\n",
              "      <td>Iowa</td>\n",
              "      <td>2.2</td>\n",
              "      <td>56</td>\n",
              "      <td>57</td>\n",
              "      <td>11.3</td>\n",
              "      <td>2</td>\n",
              "    </tr>\n",
              "    <tr>\n",
              "      <th>15</th>\n",
              "      <td>Kansas</td>\n",
              "      <td>6.0</td>\n",
              "      <td>115</td>\n",
              "      <td>66</td>\n",
              "      <td>18.0</td>\n",
              "      <td>0</td>\n",
              "    </tr>\n",
              "    <tr>\n",
              "      <th>16</th>\n",
              "      <td>Kentucky</td>\n",
              "      <td>9.7</td>\n",
              "      <td>109</td>\n",
              "      <td>52</td>\n",
              "      <td>16.3</td>\n",
              "      <td>0</td>\n",
              "    </tr>\n",
              "    <tr>\n",
              "      <th>17</th>\n",
              "      <td>Louisiana</td>\n",
              "      <td>15.4</td>\n",
              "      <td>249</td>\n",
              "      <td>66</td>\n",
              "      <td>22.2</td>\n",
              "      <td>3</td>\n",
              "    </tr>\n",
              "    <tr>\n",
              "      <th>18</th>\n",
              "      <td>Maine</td>\n",
              "      <td>2.1</td>\n",
              "      <td>83</td>\n",
              "      <td>51</td>\n",
              "      <td>7.8</td>\n",
              "      <td>2</td>\n",
              "    </tr>\n",
              "    <tr>\n",
              "      <th>19</th>\n",
              "      <td>Maryland</td>\n",
              "      <td>11.3</td>\n",
              "      <td>300</td>\n",
              "      <td>67</td>\n",
              "      <td>27.8</td>\n",
              "      <td>1</td>\n",
              "    </tr>\n",
              "    <tr>\n",
              "      <th>20</th>\n",
              "      <td>Massachusetts</td>\n",
              "      <td>4.4</td>\n",
              "      <td>149</td>\n",
              "      <td>85</td>\n",
              "      <td>16.3</td>\n",
              "      <td>0</td>\n",
              "    </tr>\n",
              "    <tr>\n",
              "      <th>21</th>\n",
              "      <td>Michigan</td>\n",
              "      <td>12.1</td>\n",
              "      <td>255</td>\n",
              "      <td>74</td>\n",
              "      <td>35.1</td>\n",
              "      <td>1</td>\n",
              "    </tr>\n",
              "    <tr>\n",
              "      <th>22</th>\n",
              "      <td>Minnesota</td>\n",
              "      <td>2.7</td>\n",
              "      <td>72</td>\n",
              "      <td>66</td>\n",
              "      <td>14.9</td>\n",
              "      <td>2</td>\n",
              "    </tr>\n",
              "    <tr>\n",
              "      <th>23</th>\n",
              "      <td>Mississippi</td>\n",
              "      <td>16.1</td>\n",
              "      <td>259</td>\n",
              "      <td>44</td>\n",
              "      <td>17.1</td>\n",
              "      <td>3</td>\n",
              "    </tr>\n",
              "    <tr>\n",
              "      <th>24</th>\n",
              "      <td>Missouri</td>\n",
              "      <td>9.0</td>\n",
              "      <td>178</td>\n",
              "      <td>70</td>\n",
              "      <td>28.2</td>\n",
              "      <td>1</td>\n",
              "    </tr>\n",
              "    <tr>\n",
              "      <th>25</th>\n",
              "      <td>Montana</td>\n",
              "      <td>6.0</td>\n",
              "      <td>109</td>\n",
              "      <td>53</td>\n",
              "      <td>16.4</td>\n",
              "      <td>2</td>\n",
              "    </tr>\n",
              "    <tr>\n",
              "      <th>26</th>\n",
              "      <td>Nebraska</td>\n",
              "      <td>4.3</td>\n",
              "      <td>102</td>\n",
              "      <td>62</td>\n",
              "      <td>16.5</td>\n",
              "      <td>2</td>\n",
              "    </tr>\n",
              "    <tr>\n",
              "      <th>27</th>\n",
              "      <td>Nevada</td>\n",
              "      <td>12.2</td>\n",
              "      <td>252</td>\n",
              "      <td>81</td>\n",
              "      <td>46.0</td>\n",
              "      <td>1</td>\n",
              "    </tr>\n",
              "    <tr>\n",
              "      <th>28</th>\n",
              "      <td>New Hampshire</td>\n",
              "      <td>2.1</td>\n",
              "      <td>57</td>\n",
              "      <td>56</td>\n",
              "      <td>9.5</td>\n",
              "      <td>2</td>\n",
              "    </tr>\n",
              "    <tr>\n",
              "      <th>29</th>\n",
              "      <td>New Jersey</td>\n",
              "      <td>7.4</td>\n",
              "      <td>159</td>\n",
              "      <td>89</td>\n",
              "      <td>18.8</td>\n",
              "      <td>0</td>\n",
              "    </tr>\n",
              "    <tr>\n",
              "      <th>30</th>\n",
              "      <td>New Mexico</td>\n",
              "      <td>11.4</td>\n",
              "      <td>285</td>\n",
              "      <td>70</td>\n",
              "      <td>32.1</td>\n",
              "      <td>1</td>\n",
              "    </tr>\n",
              "    <tr>\n",
              "      <th>31</th>\n",
              "      <td>New York</td>\n",
              "      <td>11.1</td>\n",
              "      <td>254</td>\n",
              "      <td>86</td>\n",
              "      <td>26.1</td>\n",
              "      <td>1</td>\n",
              "    </tr>\n",
              "    <tr>\n",
              "      <th>32</th>\n",
              "      <td>North Carolina</td>\n",
              "      <td>13.0</td>\n",
              "      <td>337</td>\n",
              "      <td>45</td>\n",
              "      <td>16.1</td>\n",
              "      <td>3</td>\n",
              "    </tr>\n",
              "    <tr>\n",
              "      <th>33</th>\n",
              "      <td>North Dakota</td>\n",
              "      <td>0.8</td>\n",
              "      <td>45</td>\n",
              "      <td>44</td>\n",
              "      <td>7.3</td>\n",
              "      <td>2</td>\n",
              "    </tr>\n",
              "    <tr>\n",
              "      <th>34</th>\n",
              "      <td>Ohio</td>\n",
              "      <td>7.3</td>\n",
              "      <td>120</td>\n",
              "      <td>75</td>\n",
              "      <td>21.4</td>\n",
              "      <td>0</td>\n",
              "    </tr>\n",
              "    <tr>\n",
              "      <th>35</th>\n",
              "      <td>Oklahoma</td>\n",
              "      <td>6.6</td>\n",
              "      <td>151</td>\n",
              "      <td>68</td>\n",
              "      <td>20.0</td>\n",
              "      <td>0</td>\n",
              "    </tr>\n",
              "    <tr>\n",
              "      <th>36</th>\n",
              "      <td>Oregon</td>\n",
              "      <td>4.9</td>\n",
              "      <td>159</td>\n",
              "      <td>67</td>\n",
              "      <td>29.3</td>\n",
              "      <td>0</td>\n",
              "    </tr>\n",
              "    <tr>\n",
              "      <th>37</th>\n",
              "      <td>Pennsylvania</td>\n",
              "      <td>6.3</td>\n",
              "      <td>106</td>\n",
              "      <td>72</td>\n",
              "      <td>14.9</td>\n",
              "      <td>0</td>\n",
              "    </tr>\n",
              "    <tr>\n",
              "      <th>38</th>\n",
              "      <td>Rhode Island</td>\n",
              "      <td>3.4</td>\n",
              "      <td>174</td>\n",
              "      <td>87</td>\n",
              "      <td>8.3</td>\n",
              "      <td>0</td>\n",
              "    </tr>\n",
              "    <tr>\n",
              "      <th>39</th>\n",
              "      <td>South Carolina</td>\n",
              "      <td>14.4</td>\n",
              "      <td>279</td>\n",
              "      <td>48</td>\n",
              "      <td>22.5</td>\n",
              "      <td>3</td>\n",
              "    </tr>\n",
              "    <tr>\n",
              "      <th>40</th>\n",
              "      <td>South Dakota</td>\n",
              "      <td>3.8</td>\n",
              "      <td>86</td>\n",
              "      <td>45</td>\n",
              "      <td>12.8</td>\n",
              "      <td>2</td>\n",
              "    </tr>\n",
              "    <tr>\n",
              "      <th>41</th>\n",
              "      <td>Tennessee</td>\n",
              "      <td>13.2</td>\n",
              "      <td>188</td>\n",
              "      <td>59</td>\n",
              "      <td>26.9</td>\n",
              "      <td>3</td>\n",
              "    </tr>\n",
              "    <tr>\n",
              "      <th>42</th>\n",
              "      <td>Texas</td>\n",
              "      <td>12.7</td>\n",
              "      <td>201</td>\n",
              "      <td>80</td>\n",
              "      <td>25.5</td>\n",
              "      <td>1</td>\n",
              "    </tr>\n",
              "    <tr>\n",
              "      <th>43</th>\n",
              "      <td>Utah</td>\n",
              "      <td>3.2</td>\n",
              "      <td>120</td>\n",
              "      <td>80</td>\n",
              "      <td>22.9</td>\n",
              "      <td>0</td>\n",
              "    </tr>\n",
              "    <tr>\n",
              "      <th>44</th>\n",
              "      <td>Vermont</td>\n",
              "      <td>2.2</td>\n",
              "      <td>48</td>\n",
              "      <td>32</td>\n",
              "      <td>11.2</td>\n",
              "      <td>2</td>\n",
              "    </tr>\n",
              "    <tr>\n",
              "      <th>45</th>\n",
              "      <td>Virginia</td>\n",
              "      <td>8.5</td>\n",
              "      <td>156</td>\n",
              "      <td>63</td>\n",
              "      <td>20.7</td>\n",
              "      <td>0</td>\n",
              "    </tr>\n",
              "    <tr>\n",
              "      <th>46</th>\n",
              "      <td>Washington</td>\n",
              "      <td>4.0</td>\n",
              "      <td>145</td>\n",
              "      <td>73</td>\n",
              "      <td>26.2</td>\n",
              "      <td>0</td>\n",
              "    </tr>\n",
              "    <tr>\n",
              "      <th>47</th>\n",
              "      <td>West Virginia</td>\n",
              "      <td>5.7</td>\n",
              "      <td>81</td>\n",
              "      <td>39</td>\n",
              "      <td>9.3</td>\n",
              "      <td>2</td>\n",
              "    </tr>\n",
              "    <tr>\n",
              "      <th>48</th>\n",
              "      <td>Wisconsin</td>\n",
              "      <td>2.6</td>\n",
              "      <td>53</td>\n",
              "      <td>66</td>\n",
              "      <td>10.8</td>\n",
              "      <td>2</td>\n",
              "    </tr>\n",
              "    <tr>\n",
              "      <th>49</th>\n",
              "      <td>Wyoming</td>\n",
              "      <td>6.8</td>\n",
              "      <td>161</td>\n",
              "      <td>60</td>\n",
              "      <td>15.6</td>\n",
              "      <td>0</td>\n",
              "    </tr>\n",
              "  </tbody>\n",
              "</table>\n",
              "</div>"
            ],
            "text/plain": [
              "             State  Murder  Assault  UrbanPop  Rape  clust\n",
              "0          Alabama    13.2      236        58  21.2      3\n",
              "1           Alaska    10.0      263        48  44.5      1\n",
              "2          Arizona     8.1      294        80  31.0      1\n",
              "3         Arkansas     8.8      190        50  19.5      0\n",
              "4       California     9.0      276        91  40.6      1\n",
              "5         Colorado     7.9      204        78  38.7      1\n",
              "6      Connecticut     3.3      110        77  11.1      0\n",
              "7         Delaware     5.9      238        72  15.8      0\n",
              "8          Florida    15.4      335        80  31.9      1\n",
              "9          Georgia    17.4      211        60  25.8      3\n",
              "10          Hawaii     5.3       46        83  20.2      0\n",
              "11           Idaho     2.6      120        54  14.2      2\n",
              "12        Illinois    10.4      249        83  24.0      1\n",
              "13         Indiana     7.2      113        65  21.0      0\n",
              "14            Iowa     2.2       56        57  11.3      2\n",
              "15          Kansas     6.0      115        66  18.0      0\n",
              "16        Kentucky     9.7      109        52  16.3      0\n",
              "17       Louisiana    15.4      249        66  22.2      3\n",
              "18           Maine     2.1       83        51   7.8      2\n",
              "19        Maryland    11.3      300        67  27.8      1\n",
              "20   Massachusetts     4.4      149        85  16.3      0\n",
              "21        Michigan    12.1      255        74  35.1      1\n",
              "22       Minnesota     2.7       72        66  14.9      2\n",
              "23     Mississippi    16.1      259        44  17.1      3\n",
              "24        Missouri     9.0      178        70  28.2      1\n",
              "25         Montana     6.0      109        53  16.4      2\n",
              "26        Nebraska     4.3      102        62  16.5      2\n",
              "27          Nevada    12.2      252        81  46.0      1\n",
              "28   New Hampshire     2.1       57        56   9.5      2\n",
              "29      New Jersey     7.4      159        89  18.8      0\n",
              "30      New Mexico    11.4      285        70  32.1      1\n",
              "31        New York    11.1      254        86  26.1      1\n",
              "32  North Carolina    13.0      337        45  16.1      3\n",
              "33    North Dakota     0.8       45        44   7.3      2\n",
              "34            Ohio     7.3      120        75  21.4      0\n",
              "35        Oklahoma     6.6      151        68  20.0      0\n",
              "36          Oregon     4.9      159        67  29.3      0\n",
              "37    Pennsylvania     6.3      106        72  14.9      0\n",
              "38    Rhode Island     3.4      174        87   8.3      0\n",
              "39  South Carolina    14.4      279        48  22.5      3\n",
              "40    South Dakota     3.8       86        45  12.8      2\n",
              "41       Tennessee    13.2      188        59  26.9      3\n",
              "42           Texas    12.7      201        80  25.5      1\n",
              "43            Utah     3.2      120        80  22.9      0\n",
              "44         Vermont     2.2       48        32  11.2      2\n",
              "45        Virginia     8.5      156        63  20.7      0\n",
              "46      Washington     4.0      145        73  26.2      0\n",
              "47   West Virginia     5.7       81        39   9.3      2\n",
              "48       Wisconsin     2.6       53        66  10.8      2\n",
              "49         Wyoming     6.8      161        60  15.6      0"
            ]
          },
          "metadata": {
            "tags": []
          },
          "execution_count": 34
        }
      ]
    },
    {
      "cell_type": "code",
      "metadata": {
        "colab": {
          "base_uri": "https://localhost:8080/"
        },
        "id": "oioW809Rm7Vc",
        "outputId": "85928465-29a4-4b94-a4fa-c03a3b670d1c"
      },
      "source": [
        "y_pred =h_ward.fit_predict(data)\n",
        "y_pred"
      ],
      "execution_count": 36,
      "outputs": [
        {
          "output_type": "execute_result",
          "data": {
            "text/plain": [
              "array([3, 1, 1, 0, 1, 1, 0, 0, 1, 3, 0, 2, 1, 0, 2, 0, 0, 3, 2, 1, 0, 1,\n",
              "       2, 3, 1, 2, 2, 1, 2, 0, 1, 1, 3, 2, 0, 0, 0, 0, 0, 3, 2, 3, 1, 0,\n",
              "       2, 0, 0, 2, 2, 0])"
            ]
          },
          "metadata": {
            "tags": []
          },
          "execution_count": 36
        }
      ]
    },
    {
      "cell_type": "code",
      "metadata": {
        "colab": {
          "base_uri": "https://localhost:8080/",
          "height": 197
        },
        "id": "giUDoni2fZE2",
        "outputId": "3b28ec23-f7de-43d1-cba7-677a498b96d7"
      },
      "source": [
        "crime.iloc[:,1:].groupby(crime.clust).mean()"
      ],
      "execution_count": 10,
      "outputs": [
        {
          "output_type": "execute_result",
          "data": {
            "text/html": [
              "<div>\n",
              "<style scoped>\n",
              "    .dataframe tbody tr th:only-of-type {\n",
              "        vertical-align: middle;\n",
              "    }\n",
              "\n",
              "    .dataframe tbody tr th {\n",
              "        vertical-align: top;\n",
              "    }\n",
              "\n",
              "    .dataframe thead th {\n",
              "        text-align: right;\n",
              "    }\n",
              "</style>\n",
              "<table border=\"1\" class=\"dataframe\">\n",
              "  <thead>\n",
              "    <tr style=\"text-align: right;\">\n",
              "      <th></th>\n",
              "      <th>Murder</th>\n",
              "      <th>Assault</th>\n",
              "      <th>UrbanPop</th>\n",
              "      <th>Rape</th>\n",
              "      <th>clust</th>\n",
              "    </tr>\n",
              "    <tr>\n",
              "      <th>clust</th>\n",
              "      <th></th>\n",
              "      <th></th>\n",
              "      <th></th>\n",
              "      <th></th>\n",
              "      <th></th>\n",
              "    </tr>\n",
              "  </thead>\n",
              "  <tbody>\n",
              "    <tr>\n",
              "      <th>0</th>\n",
              "      <td>6.055556</td>\n",
              "      <td>140.055556</td>\n",
              "      <td>71.333333</td>\n",
              "      <td>18.683333</td>\n",
              "      <td>0</td>\n",
              "    </tr>\n",
              "    <tr>\n",
              "      <th>1</th>\n",
              "      <td>10.815385</td>\n",
              "      <td>257.384615</td>\n",
              "      <td>76.000000</td>\n",
              "      <td>33.192308</td>\n",
              "      <td>1</td>\n",
              "    </tr>\n",
              "    <tr>\n",
              "      <th>2</th>\n",
              "      <td>3.091667</td>\n",
              "      <td>76.000000</td>\n",
              "      <td>52.083333</td>\n",
              "      <td>11.833333</td>\n",
              "      <td>2</td>\n",
              "    </tr>\n",
              "    <tr>\n",
              "      <th>3</th>\n",
              "      <td>14.671429</td>\n",
              "      <td>251.285714</td>\n",
              "      <td>54.285714</td>\n",
              "      <td>21.685714</td>\n",
              "      <td>3</td>\n",
              "    </tr>\n",
              "  </tbody>\n",
              "</table>\n",
              "</div>"
            ],
            "text/plain": [
              "          Murder     Assault   UrbanPop       Rape  clust\n",
              "clust                                                    \n",
              "0       6.055556  140.055556  71.333333  18.683333      0\n",
              "1      10.815385  257.384615  76.000000  33.192308      1\n",
              "2       3.091667   76.000000  52.083333  11.833333      2\n",
              "3      14.671429  251.285714  54.285714  21.685714      3"
            ]
          },
          "metadata": {
            "tags": []
          },
          "execution_count": 10
        }
      ]
    },
    {
      "cell_type": "code",
      "metadata": {
        "colab": {
          "base_uri": "https://localhost:8080/",
          "height": 197
        },
        "id": "e5VHGqXncXfX",
        "outputId": "6079c92e-e9e1-4c13-89e1-39f4d9c0b4db"
      },
      "source": [
        "crime.iloc[:,1:].groupby(crime.clust).count()"
      ],
      "execution_count": 11,
      "outputs": [
        {
          "output_type": "execute_result",
          "data": {
            "text/html": [
              "<div>\n",
              "<style scoped>\n",
              "    .dataframe tbody tr th:only-of-type {\n",
              "        vertical-align: middle;\n",
              "    }\n",
              "\n",
              "    .dataframe tbody tr th {\n",
              "        vertical-align: top;\n",
              "    }\n",
              "\n",
              "    .dataframe thead th {\n",
              "        text-align: right;\n",
              "    }\n",
              "</style>\n",
              "<table border=\"1\" class=\"dataframe\">\n",
              "  <thead>\n",
              "    <tr style=\"text-align: right;\">\n",
              "      <th></th>\n",
              "      <th>Murder</th>\n",
              "      <th>Assault</th>\n",
              "      <th>UrbanPop</th>\n",
              "      <th>Rape</th>\n",
              "      <th>clust</th>\n",
              "    </tr>\n",
              "    <tr>\n",
              "      <th>clust</th>\n",
              "      <th></th>\n",
              "      <th></th>\n",
              "      <th></th>\n",
              "      <th></th>\n",
              "      <th></th>\n",
              "    </tr>\n",
              "  </thead>\n",
              "  <tbody>\n",
              "    <tr>\n",
              "      <th>0</th>\n",
              "      <td>18</td>\n",
              "      <td>18</td>\n",
              "      <td>18</td>\n",
              "      <td>18</td>\n",
              "      <td>18</td>\n",
              "    </tr>\n",
              "    <tr>\n",
              "      <th>1</th>\n",
              "      <td>13</td>\n",
              "      <td>13</td>\n",
              "      <td>13</td>\n",
              "      <td>13</td>\n",
              "      <td>13</td>\n",
              "    </tr>\n",
              "    <tr>\n",
              "      <th>2</th>\n",
              "      <td>12</td>\n",
              "      <td>12</td>\n",
              "      <td>12</td>\n",
              "      <td>12</td>\n",
              "      <td>12</td>\n",
              "    </tr>\n",
              "    <tr>\n",
              "      <th>3</th>\n",
              "      <td>7</td>\n",
              "      <td>7</td>\n",
              "      <td>7</td>\n",
              "      <td>7</td>\n",
              "      <td>7</td>\n",
              "    </tr>\n",
              "  </tbody>\n",
              "</table>\n",
              "</div>"
            ],
            "text/plain": [
              "       Murder  Assault  UrbanPop  Rape  clust\n",
              "clust                                        \n",
              "0          18       18        18    18     18\n",
              "1          13       13        13    13     13\n",
              "2          12       12        12    12     12\n",
              "3           7        7         7     7      7"
            ]
          },
          "metadata": {
            "tags": []
          },
          "execution_count": 11
        }
      ]
    },
    {
      "cell_type": "code",
      "metadata": {
        "id": "6qLJfk11dTnj"
      },
      "source": [
        "import seaborn as sns"
      ],
      "execution_count": 12,
      "outputs": []
    },
    {
      "cell_type": "code",
      "metadata": {
        "colab": {
          "base_uri": "https://localhost:8080/",
          "height": 352
        },
        "id": "ZicnO3lzdJ4o",
        "outputId": "26b1c466-cc50-4dec-f72a-5ca8e12ba197"
      },
      "source": [
        "plt.figure(figsize=(10,5))\n",
        "sns.boxplot(x='clust', y='Murder', data=crime)"
      ],
      "execution_count": 13,
      "outputs": [
        {
          "output_type": "execute_result",
          "data": {
            "text/plain": [
              "<matplotlib.axes._subplots.AxesSubplot at 0x7f21eebb7dd0>"
            ]
          },
          "metadata": {
            "tags": []
          },
          "execution_count": 13
        },
        {
          "output_type": "display_data",
          "data": {
            "image/png": "[encoded data removed]",
            "text/plain": [
              "<Figure size 720x360 with 1 Axes>"
            ]
          },
          "metadata": {
            "tags": [],
            "needs_background": "light"
          }
        }
      ]
    },
    {
      "cell_type": "code",
      "metadata": {
        "colab": {
          "base_uri": "https://localhost:8080/",
          "height": 352
        },
        "id": "AlUkz1prdb7C",
        "outputId": "12b90f55-2957-4a90-ec04-096579f2a367"
      },
      "source": [
        "plt.figure(figsize=(10,5))\n",
        "sns.boxplot(x='clust', y='Rape', data=crime)"
      ],
      "execution_count": 14,
      "outputs": [
        {
          "output_type": "execute_result",
          "data": {
            "text/plain": [
              "<matplotlib.axes._subplots.AxesSubplot at 0x7f21eeb11ad0>"
            ]
          },
          "metadata": {
            "tags": []
          },
          "execution_count": 14
        },
        {
          "output_type": "display_data",
          "data": {
            "image/png": "[encoded data removed]",
            "text/plain": [
              "<Figure size 720x360 with 1 Axes>"
            ]
          },
          "metadata": {
            "tags": [],
            "needs_background": "light"
          }
        }
      ]
    },
    {
      "cell_type": "code",
      "metadata": {
        "colab": {
          "base_uri": "https://localhost:8080/",
          "height": 353
        },
        "id": "Ql6Vaav8dioK",
        "outputId": "6c47cda5-fabf-45d4-e0a5-f9fcd6881a22"
      },
      "source": [
        "plt.figure(figsize=(10,5))\n",
        "sns.boxplot(x='clust', y='Assault', data=crime)"
      ],
      "execution_count": 15,
      "outputs": [
        {
          "output_type": "execute_result",
          "data": {
            "text/plain": [
              "<matplotlib.axes._subplots.AxesSubplot at 0x7f21eea96090>"
            ]
          },
          "metadata": {
            "tags": []
          },
          "execution_count": 15
        },
        {
          "output_type": "display_data",
          "data": {
            "image/png": "[encoded data removed]",
            "text/plain": [
              "<Figure size 720x360 with 1 Axes>"
            ]
          },
          "metadata": {
            "tags": [],
            "needs_background": "light"
          }
        }
      ]
    },
    {
      "cell_type": "code",
      "metadata": {
        "colab": {
          "base_uri": "https://localhost:8080/"
        },
        "id": "a23jTLuQh8va",
        "outputId": "640ac94c-2acc-4165-c274-208db6bf218a"
      },
      "source": [
        "Low_Crime = crime.groupby('clust')['State'].unique()[2]\n",
        "Low_Crime"
      ],
      "execution_count": 24,
      "outputs": [
        {
          "output_type": "execute_result",
          "data": {
            "text/plain": [
              "array(['Idaho', 'Iowa', 'Maine', 'Minnesota', 'Montana', 'Nebraska',\n",
              "       'New Hampshire', 'North Dakota', 'South Dakota', 'Vermont',\n",
              "       'West Virginia', 'Wisconsin'], dtype=object)"
            ]
          },
          "metadata": {
            "tags": []
          },
          "execution_count": 24
        }
      ]
    },
    {
      "cell_type": "code",
      "metadata": {
        "colab": {
          "base_uri": "https://localhost:8080/"
        },
        "id": "_QNia0elixx6",
        "outputId": "fdc7ca3e-746a-4324-da0e-31e48dd6b3f4"
      },
      "source": [
        "Medium_Crime = crime.groupby('clust')['State'].unique()[0]\n",
        "Medium_Crime"
      ],
      "execution_count": 27,
      "outputs": [
        {
          "output_type": "execute_result",
          "data": {
            "text/plain": [
              "array(['Arkansas', 'Connecticut', 'Delaware', 'Hawaii', 'Indiana',\n",
              "       'Kansas', 'Kentucky', 'Massachusetts', 'New Jersey', 'Ohio',\n",
              "       'Oklahoma', 'Oregon', 'Pennsylvania', 'Rhode Island', 'Utah',\n",
              "       'Virginia', 'Washington', 'Wyoming'], dtype=object)"
            ]
          },
          "metadata": {
            "tags": []
          },
          "execution_count": 27
        }
      ]
    },
    {
      "cell_type": "code",
      "metadata": {
        "colab": {
          "base_uri": "https://localhost:8080/"
        },
        "id": "EWPfL29RjdoM",
        "outputId": "86695baa-5e8a-4713-ca5b-f49891d04605"
      },
      "source": [
        "High_Crime = crime.groupby('clust')['State'].unique()[3]\n",
        "High_Crime"
      ],
      "execution_count": 28,
      "outputs": [
        {
          "output_type": "execute_result",
          "data": {
            "text/plain": [
              "array(['Alabama', 'Georgia', 'Louisiana', 'Mississippi', 'North Carolina',\n",
              "       'South Carolina', 'Tennessee'], dtype=object)"
            ]
          },
          "metadata": {
            "tags": []
          },
          "execution_count": 28
        }
      ]
    },
    {
      "cell_type": "code",
      "metadata": {
        "colab": {
          "base_uri": "https://localhost:8080/"
        },
        "id": "yRLc5f9YjeeI",
        "outputId": "be7b9284-6687-4377-a753-942d5aff1ecf"
      },
      "source": [
        "Very_High_Crime = crime.groupby('clust')['State'].unique()[1]\n",
        "Very_High_Crime"
      ],
      "execution_count": 29,
      "outputs": [
        {
          "output_type": "execute_result",
          "data": {
            "text/plain": [
              "array(['Alaska', 'Arizona', 'California', 'Colorado', 'Florida',\n",
              "       'Illinois', 'Maryland', 'Michigan', 'Missouri', 'Nevada',\n",
              "       'New Mexico', 'New York', 'Texas'], dtype=object)"
            ]
          },
          "metadata": {
            "tags": []
          },
          "execution_count": 29
        }
      ]
    },
    {
      "cell_type": "markdown",
      "metadata": {
        "id": "qFmVvJjhovat"
      },
      "source": [
        "The Cities in the Cluster-2 seems to be low crime rates where there are relativley less Murders,Assaults and Rapes.\n",
        "The Cities in Cluster-0 seems to have Medium crime rates and can be regarded as medium crime zone\n",
        "The Cities in Cluster-3 seems to have High crime rates when compared to other zones and can be called as High Crime zone\n",
        "The Cities in Cluster-1 seems to have Very High crime rates  where there are more Murders,Assaults and Rapes."
      ]
    },
    {
      "cell_type": "code",
      "metadata": {
        "id": "Le2OQGk8oHsf"
      },
      "source": [
        "data1 = crime.iloc[:,1:].values"
      ],
      "execution_count": 37,
      "outputs": []
    },
    {
      "cell_type": "code",
      "metadata": {
        "colab": {
          "base_uri": "https://localhost:8080/",
          "height": 322
        },
        "id": "O_o7zUWPkbi2",
        "outputId": "fe1142f6-cbaf-4942-b72c-bef004c436ee"
      },
      "source": [
        "plt.figure(figsize=(10,5))\n",
        "plt.scatter(data1[y_pred==2, 0], data1[y_pred==2, 1], s=100, c='red', label ='Low_Crime')\n",
        "plt.scatter(data1[y_pred==0, 0], data1[y_pred==0, 1], s=100, c='blue', label ='Medium_Crime')\n",
        "plt.scatter(data1[y_pred==3, 0], data1[y_pred==3, 1], s=100, c='green', label ='High_Crime')\n",
        "plt.scatter(data1[y_pred==1, 0], data1[y_pred==1, 1], s=100, c='purple', label ='Very_High_Crime')\n",
        "plt.legend()\n",
        "plt.show()"
      ],
      "execution_count": 38,
      "outputs": [
        {
          "output_type": "display_data",
          "data": {
            "image/png": "[encoded data removed]",
            "text/plain": [
              "<Figure size 720x360 with 1 Axes>"
            ]
          },
          "metadata": {
            "tags": [],
            "needs_background": "light"
          }
        }
      ]
    }
  ]
}